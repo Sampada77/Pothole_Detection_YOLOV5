{
 "cells": [
  {
   "cell_type": "code",
   "execution_count": null,
   "id": "4a5c9419",
   "metadata": {},
   "outputs": [],
   "source": [
    "pip install Flask-Session"
   ]
  },
  {
   "cell_type": "code",
   "execution_count": null,
   "id": "6688d993",
   "metadata": {},
   "outputs": [],
   "source": [
    "import pandas as pd\n",
    "from joblib import load\n",
    "import io\n",
    "from flask import Flask, render_template, request, session, send_file\n",
    "from flask_session import Session\n",
    "from tempfile import mkdtemp\n",
    "import os\n",
    "import torch"
   ]
  },
  {
   "cell_type": "code",
   "execution_count": null,
   "id": "4c8ed039",
   "metadata": {},
   "outputs": [],
   "source": [
    "app = Flask(__name__)"
   ]
  },
  {
   "cell_type": "code",
   "execution_count": null,
   "id": "bae48106",
   "metadata": {},
   "outputs": [],
   "source": [
    "# Ensure templates are auto-reloaded\n",
    "app.config[\"TEMPLATES_AUTO_RELOAD\"] = True"
   ]
  },
  {
   "cell_type": "code",
   "execution_count": null,
   "id": "112590e3",
   "metadata": {},
   "outputs": [],
   "source": [
    "# Ensure responses aren't cached\n",
    "@app.after_request\n",
    "def after_request(response):\n",
    "    response.headers[\"Cache-Control\"] = \"no-cache, no-store, must-revalidate\"\n",
    "    response.headers[\"Expires\"] = 0\n",
    "    response.headers[\"Pragma\"] = \"no-cache\"\n",
    "    return response"
   ]
  },
  {
   "cell_type": "code",
   "execution_count": null,
   "id": "59e597da",
   "metadata": {},
   "outputs": [],
   "source": [
    "# Configure session to use filesystem (instead of signed cookies)\n",
    "app.config[\"SESSION_FILE_DIR\"] = mkdtemp()\n",
    "app.config[\"SESSION_PERMANENT\"] = False\n",
    "app.config[\"SESSION_TYPE\"] = \"filesystem\"\n",
    "Session(app)"
   ]
  },
  {
   "cell_type": "code",
   "execution_count": null,
   "id": "a74883f5",
   "metadata": {},
   "outputs": [],
   "source": [
    "# allowed input image extensions\n",
    "IMG_EXTENSIONS = ['bmp', 'jpg', 'jpeg', 'png', 'tif', 'tiff', 'dng', 'webp', 'mpo']"
   ]
  },
  {
   "cell_type": "code",
   "execution_count": null,
   "id": "9f6bcb14",
   "metadata": {},
   "outputs": [],
   "source": [
    "# allowed input video extensions\n",
    "VID_EXTENSIONS = ['mov', 'avi', 'mp4', 'mpg', 'mpeg', 'm4v', 'wmv', 'mkv']"
   ]
  },
  {
   "cell_type": "code",
   "execution_count": null,
   "id": "6ffb8ab2",
   "metadata": {},
   "outputs": [],
   "source": [
    "def detect(test_input):\n",
    "    \"\"\" \n",
    "    Function to detect potholes given an image input\n",
    "    Parameters:\n",
    "        test_input: image/video input\n",
    "    Output:\n",
    "        image/video with detection\n",
    "    \"\"\"\n",
    "    # weights\n",
    "    weights_path = 'weights/best.pt'\n",
    "    # to save the detection\n",
    "    output_path = 'static/test_out'\n",
    "    # img dimension\n",
    "    img_width, img_height = 640, 640\n",
    "    img_size = [img_width, img_height]\n",
    "    # confidence threshold\n",
    "    conf_threshold = 0.5\n",
    "    # iou threshold\n",
    "    iou_threshold = 0.5\n",
    "    # bounding box thickness\n",
    "    bbox_line_thick = 5\n",
    "\n",
    "    # run detection\n",
    "    run(weights=weights_path, \n",
    "        source=test_input, \n",
    "        imgsz=img_size,\n",
    "        conf_thres=conf_threshold, \n",
    "        iou_thres = iou_threshold,\n",
    "        project=output_path,\n",
    "        name='',\n",
    "        exist_ok=True,\n",
    "        line_thickness=bbox_line_thick\n",
    "    )"
   ]
  },
  {
   "cell_type": "code",
   "execution_count": null,
   "id": "534d523d",
   "metadata": {},
   "outputs": [],
   "source": [
    "# home page\n",
    "@app.route(\"/\")\n",
    "def index():\n",
    "    return render_template(\n",
    "        \"index.html\", \n",
    "        ori_image=\"static/person.jpg\", \n",
    "        det_image=\"static/person_det.jpg\",\n",
    "        fName=None\n",
    "        )"
   ]
  },
  {
   "cell_type": "code",
   "execution_count": null,
   "id": "973269ea",
   "metadata": {},
   "outputs": [],
   "source": [
    "# carryout detection\n",
    "@app.route(\"/detection\", methods=[\"GET\", \"POST\"])\n",
    "def detection():\n",
    "    file = request.files[\"test_file\"]\n",
    "\n",
    "    # check if a file is uploaded\n",
    "    if file:\n",
    "        # check file extention\n",
    "        ext = file.filename.split('.')[-1]\n",
    "\n",
    "        # detection on an image\n",
    "        if ext in IMG_EXTENSIONS:\n",
    "            # create a path\n",
    "            file_path = os.path.join(\"static/test\", file.filename)\n",
    "            # save the file\n",
    "            file.save(file_path)\n",
    "            # carryout detection\n",
    "            detect(file_path)\n",
    "\n",
    "            return render_template(\n",
    "                \"index.html\", type=\"primary\", \n",
    "                message=\"Done!, Image is ready to download\", \n",
    "                ori_image=f\"static/test/{file.filename}\", \n",
    "                det_image=f\"static/test_out/{file.filename}\",\n",
    "                fName=file.filename\n",
    "            )\n",
    "        # detection on a video\n",
    "        elif ext in VID_EXTENSIONS:\n",
    "            # create a path\n",
    "            file_path = os.path.join(\"static/test\", file.filename)\n",
    "            # save the file\n",
    "            file.save(file_path)\n",
    "            detect(file_path)\n",
    "            return render_template(\n",
    "                \"index.html\", type=\"primary\", \n",
    "                message=\"Done!, Video is ready to download.\",\n",
    "                ori_image=\"static/person.jpg\", \n",
    "                det_image=\"static/person_det.jpg\",\n",
    "                fName=file.filename\n",
    "            )\n",
    "    # if no input render an error message        \n",
    "    else:\n",
    "        return render_template(\n",
    "                \"index.html\", type=\"danger\", \n",
    "                message=\"Please upload a file.\",\n",
    "                ori_image=\"static/person.jpg\", \n",
    "                det_image=\"static/person_det.jpg\",\n",
    "                fName=None\n",
    "            )\n"
   ]
  },
  {
   "cell_type": "code",
   "execution_count": null,
   "id": "4803a22a",
   "metadata": {},
   "outputs": [],
   "source": [
    "# download the detection\n",
    "@app.route(\"/download/<fName>\", methods=[\"GET\", \"POST\"])\n",
    "def download(fName):\n",
    "    det_path = f\"static/test_out/{fName}\"\n",
    "    return send_file(det_path, as_attachment=True)"
   ]
  },
  {
   "cell_type": "code",
   "execution_count": null,
   "id": "adc4bcb9",
   "metadata": {},
   "outputs": [],
   "source": [
    "# download error handling\n",
    "@app.route(\"/download_error\", methods=[\"GET\", \"POST\"])\n",
    "def download_error():\n",
    "    return render_template(\n",
    "            \"index.html\", type=\"danger\", \n",
    "            message=\"Please upload a file and carryout detection.\",\n",
    "            ori_image=\"static/person.jpg\", \n",
    "            det_image=\"static/person_det.jpg\",\n",
    "            fName=None\n",
    "        )"
   ]
  },
  {
   "cell_type": "code",
   "execution_count": null,
   "id": "4c50c529",
   "metadata": {},
   "outputs": [],
   "source": [
    "if __name__ == \"__main__\":\n",
    "    app.run(debug=True)\n",
    "    # app.run(host=\"0.0.0.0\", port=5000)"
   ]
  },
  {
   "cell_type": "code",
   "execution_count": null,
   "id": "b8e08296",
   "metadata": {},
   "outputs": [],
   "source": []
  },
  {
   "cell_type": "code",
   "execution_count": 7,
   "id": "9bc1ea97",
   "metadata": {},
   "outputs": [],
   "source": [
    "import os\n",
    "#import tensorflow as tf\n",
    "import numpy as np\n",
    "#from keras.preprocessing import image\n",
    "from PIL import Image\n",
    "import cv2\n",
    "#from keras.models import load_model\n",
    "from flask import Flask, request, render_template\n",
    "from werkzeug.utils import secure_filename\n",
    "import os\n",
    "import torch"
   ]
  },
  {
   "cell_type": "code",
   "execution_count": 8,
   "id": "d849414f",
   "metadata": {},
   "outputs": [],
   "source": [
    "app = Flask(__name__)"
   ]
  },
  {
   "cell_type": "code",
   "execution_count": 9,
   "id": "e1910891",
   "metadata": {},
   "outputs": [
    {
     "name": "stderr",
     "output_type": "stream",
     "text": [
      "Using cache found in C:\\Users\\shrey/.cache\\torch\\hub\\ultralytics_yolov5_master\n",
      "YOLOv5  2022-12-18 Python-3.9.7 torch-1.13.1+cpu CPU\n",
      "\n",
      "Fusing layers... \n",
      "Model summary: 157 layers, 7012822 parameters, 0 gradients, 15.8 GFLOPs\n",
      "Adding AutoShape... \n"
     ]
    },
    {
     "name": "stdout",
     "output_type": "stream",
     "text": [
      "Model loaded.\n"
     ]
    }
   ],
   "source": [
    "model = torch.hub.load('ultralytics/yolov5', 'custom', path='yolov5/runs/train/exp7/weights/best.pt')\n",
    "print('Model loaded.') #Check http://127.0.0.1:5000/"
   ]
  },
  {
   "cell_type": "code",
   "execution_count": 10,
   "id": "c24666e6",
   "metadata": {},
   "outputs": [],
   "source": [
    "def getResult(img):\n",
    "    image = cv2.imread(img)\n",
    "    #image = Image.fromarray(image)\n",
    "    #image = image.resize((64, 64))\n",
    "    #image=np.array(image)\n",
    "    #input_img = np.expand_dims(image, axis=0)\n",
    "    result=model.predict(image)\n",
    "    return result"
   ]
  },
  {
   "cell_type": "code",
   "execution_count": 11,
   "id": "a8e0f21d",
   "metadata": {},
   "outputs": [],
   "source": [
    "# home page\n",
    "@app.route(\"/\")\n",
    "def index():\n",
    "    return render_template(\n",
    "        \"index.html\", \n",
    "        ori_image=\"static/person.jpg\", \n",
    "        det_image=\"static/person_det.jpg\",\n",
    "        fName=None\n",
    "        )"
   ]
  },
  {
   "cell_type": "code",
   "execution_count": 12,
   "id": "7fabe21b",
   "metadata": {},
   "outputs": [],
   "source": [
    "@app.route('/predict', methods=['GET', 'POST'])\n",
    "def upload():\n",
    "    if request.method == 'POST':\n",
    "        f = request.files['file']\n",
    "\n",
    "        basepath = os.path.dirname(__file__)\n",
    "        file_path = os.path.join(\n",
    "            basepath, 'uploads', secure_filename(f.filename))\n",
    "        f.save(file_path)\n",
    "        value=getResult(file_path)\n",
    "        result=get_className(value) \n",
    "        return result\n",
    "    return None"
   ]
  },
  {
   "cell_type": "code",
   "execution_count": 13,
   "id": "63a229da",
   "metadata": {},
   "outputs": [
    {
     "name": "stdout",
     "output_type": "stream",
     "text": [
      " * Serving Flask app '__main__' (lazy loading)\n",
      " * Environment: production\n",
      "\u001b[31m   WARNING: This is a development server. Do not use it in a production deployment.\u001b[0m\n",
      "\u001b[2m   Use a production WSGI server instead.\u001b[0m\n",
      " * Debug mode: on\n"
     ]
    },
    {
     "ename": "OSError",
     "evalue": "[WinError 10013] An attempt was made to access a socket in a way forbidden by its access permissions",
     "output_type": "error",
     "traceback": [
      "\u001b[1;31m---------------------------------------------------------------------------\u001b[0m",
      "\u001b[1;31mOSError\u001b[0m                                   Traceback (most recent call last)",
      "\u001b[1;32m~\\AppData\\Local\\Temp/ipykernel_26440/568391057.py\u001b[0m in \u001b[0;36m<module>\u001b[1;34m\u001b[0m\n\u001b[0;32m      1\u001b[0m \u001b[1;32mif\u001b[0m \u001b[0m__name__\u001b[0m \u001b[1;33m==\u001b[0m \u001b[1;34m'__main__'\u001b[0m\u001b[1;33m:\u001b[0m\u001b[1;33m\u001b[0m\u001b[1;33m\u001b[0m\u001b[0m\n\u001b[1;32m----> 2\u001b[1;33m     \u001b[0mapp\u001b[0m\u001b[1;33m.\u001b[0m\u001b[0mrun\u001b[0m\u001b[1;33m(\u001b[0m\u001b[0mdebug\u001b[0m\u001b[1;33m=\u001b[0m\u001b[1;32mTrue\u001b[0m\u001b[1;33m)\u001b[0m\u001b[1;33m\u001b[0m\u001b[1;33m\u001b[0m\u001b[0m\n\u001b[0m",
      "\u001b[1;32mF:\\Users\\shrey\\anaconda3\\lib\\site-packages\\flask\\app.py\u001b[0m in \u001b[0;36mrun\u001b[1;34m(self, host, port, debug, load_dotenv, **options)\u001b[0m\n\u001b[0;32m    918\u001b[0m \u001b[1;33m\u001b[0m\u001b[0m\n\u001b[0;32m    919\u001b[0m         \u001b[1;32mtry\u001b[0m\u001b[1;33m:\u001b[0m\u001b[1;33m\u001b[0m\u001b[1;33m\u001b[0m\u001b[0m\n\u001b[1;32m--> 920\u001b[1;33m             \u001b[0mrun_simple\u001b[0m\u001b[1;33m(\u001b[0m\u001b[0mt\u001b[0m\u001b[1;33m.\u001b[0m\u001b[0mcast\u001b[0m\u001b[1;33m(\u001b[0m\u001b[0mstr\u001b[0m\u001b[1;33m,\u001b[0m \u001b[0mhost\u001b[0m\u001b[1;33m)\u001b[0m\u001b[1;33m,\u001b[0m \u001b[0mport\u001b[0m\u001b[1;33m,\u001b[0m \u001b[0mself\u001b[0m\u001b[1;33m,\u001b[0m \u001b[1;33m**\u001b[0m\u001b[0moptions\u001b[0m\u001b[1;33m)\u001b[0m\u001b[1;33m\u001b[0m\u001b[1;33m\u001b[0m\u001b[0m\n\u001b[0m\u001b[0;32m    921\u001b[0m         \u001b[1;32mfinally\u001b[0m\u001b[1;33m:\u001b[0m\u001b[1;33m\u001b[0m\u001b[1;33m\u001b[0m\u001b[0m\n\u001b[0;32m    922\u001b[0m             \u001b[1;31m# reset the first request information if the development server\u001b[0m\u001b[1;33m\u001b[0m\u001b[1;33m\u001b[0m\u001b[0m\n",
      "\u001b[1;32mF:\\Users\\shrey\\anaconda3\\lib\\site-packages\\werkzeug\\serving.py\u001b[0m in \u001b[0;36mrun_simple\u001b[1;34m(hostname, port, application, use_reloader, use_debugger, use_evalex, extra_files, exclude_patterns, reloader_interval, reloader_type, threaded, processes, request_handler, static_files, passthrough_errors, ssl_context)\u001b[0m\n\u001b[0;32m    982\u001b[0m             \u001b[0ms\u001b[0m \u001b[1;33m=\u001b[0m \u001b[0msocket\u001b[0m\u001b[1;33m.\u001b[0m\u001b[0msocket\u001b[0m\u001b[1;33m(\u001b[0m\u001b[0maddress_family\u001b[0m\u001b[1;33m,\u001b[0m \u001b[0msocket\u001b[0m\u001b[1;33m.\u001b[0m\u001b[0mSOCK_STREAM\u001b[0m\u001b[1;33m)\u001b[0m\u001b[1;33m\u001b[0m\u001b[1;33m\u001b[0m\u001b[0m\n\u001b[0;32m    983\u001b[0m             \u001b[0ms\u001b[0m\u001b[1;33m.\u001b[0m\u001b[0msetsockopt\u001b[0m\u001b[1;33m(\u001b[0m\u001b[0msocket\u001b[0m\u001b[1;33m.\u001b[0m\u001b[0mSOL_SOCKET\u001b[0m\u001b[1;33m,\u001b[0m \u001b[0msocket\u001b[0m\u001b[1;33m.\u001b[0m\u001b[0mSO_REUSEADDR\u001b[0m\u001b[1;33m,\u001b[0m \u001b[1;36m1\u001b[0m\u001b[1;33m)\u001b[0m\u001b[1;33m\u001b[0m\u001b[1;33m\u001b[0m\u001b[0m\n\u001b[1;32m--> 984\u001b[1;33m             \u001b[0ms\u001b[0m\u001b[1;33m.\u001b[0m\u001b[0mbind\u001b[0m\u001b[1;33m(\u001b[0m\u001b[0mserver_address\u001b[0m\u001b[1;33m)\u001b[0m\u001b[1;33m\u001b[0m\u001b[1;33m\u001b[0m\u001b[0m\n\u001b[0m\u001b[0;32m    985\u001b[0m             \u001b[0ms\u001b[0m\u001b[1;33m.\u001b[0m\u001b[0mset_inheritable\u001b[0m\u001b[1;33m(\u001b[0m\u001b[1;32mTrue\u001b[0m\u001b[1;33m)\u001b[0m\u001b[1;33m\u001b[0m\u001b[1;33m\u001b[0m\u001b[0m\n\u001b[0;32m    986\u001b[0m \u001b[1;33m\u001b[0m\u001b[0m\n",
      "\u001b[1;31mOSError\u001b[0m: [WinError 10013] An attempt was made to access a socket in a way forbidden by its access permissions"
     ]
    }
   ],
   "source": [
    "if __name__ == '__main__':\n",
    "    app.run(debug=True)"
   ]
  },
  {
   "cell_type": "code",
   "execution_count": null,
   "id": "7791a615",
   "metadata": {},
   "outputs": [],
   "source": []
  }
 ],
 "metadata": {
  "kernelspec": {
   "display_name": "Python 3 (ipykernel)",
   "language": "python",
   "name": "python3"
  },
  "language_info": {
   "codemirror_mode": {
    "name": "ipython",
    "version": 3
   },
   "file_extension": ".py",
   "mimetype": "text/x-python",
   "name": "python",
   "nbconvert_exporter": "python",
   "pygments_lexer": "ipython3",
   "version": "3.9.7"
  }
 },
 "nbformat": 4,
 "nbformat_minor": 5
}
