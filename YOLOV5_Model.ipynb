{
 "cells": [
  {
   "cell_type": "code",
   "execution_count": null,
   "id": "b2d0ae95",
   "metadata": {},
   "outputs": [],
   "source": [
    "# importing libraries\n",
    "import os\n",
    "import pandas as pd\n",
    "from sklearn import model_selection\n",
    "import numpy as np\n",
    "import shutil\n",
    "import cv2\n",
    "import random\n",
    "import matplotlib.pyplot as plt\n",
    "from IPython.display import Image"
   ]
  },
  {
   "cell_type": "code",
   "execution_count": null,
   "id": "2de80b76",
   "metadata": {},
   "outputs": [],
   "source": [
    "# data directory\n",
    "data_directory = 'data\\Train_data'"
   ]
  },
  {
   "cell_type": "code",
   "execution_count": null,
   "id": "2276cdcb",
   "metadata": {},
   "outputs": [],
   "source": [
    "ls"
   ]
  },
  {
   "cell_type": "code",
   "execution_count": null,
   "id": "8bbe9cfc",
   "metadata": {},
   "outputs": [],
   "source": [
    "def get_file_path_df(folder):\n",
    "    image_path = []\n",
    "    image_name = [] \n",
    "    \n",
    "    for root, dirs, files in os.walk(folder):\n",
    "        for f in files:\n",
    "            if f.endswith(\".jpg\"): # checking for jpg extension\n",
    "                image_name.append(f.split('.')[0])\n",
    "                image_path.append(os.path.join(root, f)) # appending to image_path list\n",
    "\n",
    "        df_cols = {'image_name':image_name, 'path': image_path} # creating a dictionary for name and path of image\n",
    "        df = pd.DataFrame(df_cols) # creating a dataframe \n",
    "        \n",
    "    return df"
   ]
  },
  {
   "cell_type": "code",
   "execution_count": null,
   "id": "603d6613",
   "metadata": {},
   "outputs": [],
   "source": [
    "# getting absolute path of all images and storing in a dataframe called data_df\n",
    "data_df = get_file_path_df(data_directory)\n",
    "\n",
    "# displying random 10 rows\n",
    "data_df.sample(10)"
   ]
  },
  {
   "cell_type": "code",
   "execution_count": null,
   "id": "f6e9a1cb",
   "metadata": {},
   "outputs": [],
   "source": [
    "data_df.shape"
   ]
  },
  {
   "cell_type": "markdown",
   "id": "febfe7dc",
   "metadata": {},
   "source": [
    "1. Data contains 674 images with potholes\n",
    "2. 80% of the data is used for training and 20% used for validation"
   ]
  },
  {
   "cell_type": "code",
   "execution_count": null,
   "id": "ed65dfb7",
   "metadata": {},
   "outputs": [],
   "source": [
    "# splitting the data in to train and validation \n",
    "train_df, valid_df = model_selection.train_test_split(data_df, test_size=0.2, random_state=21, shuffle=True)"
   ]
  },
  {
   "cell_type": "code",
   "execution_count": null,
   "id": "481205b8",
   "metadata": {},
   "outputs": [],
   "source": [
    "# Number of images in training set\n",
    "print(train_df.shape)"
   ]
  },
  {
   "cell_type": "code",
   "execution_count": null,
   "id": "93cbb6ed",
   "metadata": {},
   "outputs": [],
   "source": [
    "# Number of images in validation set\n",
    "print(valid_df.shape)"
   ]
  },
  {
   "cell_type": "code",
   "execution_count": null,
   "id": "37a380b9",
   "metadata": {},
   "outputs": [],
   "source": [
    "# loading the csv file containing bounding box coordinates\n",
    "bbox_df = pd.read_csv(\"data\\labels.csv\")\n",
    "bbox_df.head()"
   ]
  },
  {
   "cell_type": "code",
   "execution_count": null,
   "id": "ccb746e1",
   "metadata": {},
   "outputs": [],
   "source": [
    "def process_bbox(img_df, bbox_df, data_type):\n",
    "    \"\"\"\n",
    "    Function to convert bounding box coordinates into YOLO format\n",
    "    and also to arrange the images and bounding boxes in specified folders\n",
    "    \n",
    "    Parameters:\n",
    "        1. img_df: data frame containing image name and path\n",
    "        2. bbox_df: data frame containing bounding box coordinates\n",
    "        3. data_type: type of data train / valid\n",
    "    \"\"\"\n",
    "    \n",
    "    # drictories for images and labels\n",
    "    dirs = ['images/train',\n",
    "            'images/valid',\n",
    "            'labels/train',\n",
    "            'labels/valid',\n",
    "           ]\n",
    "    \n",
    "    # if folder does not exist create them\n",
    "    for d in dirs:\n",
    "        if not os.path.exists(d):\n",
    "            os.makedirs(d)\n",
    "    \n",
    "    # loop over each row of image data frame\n",
    "    for _, row in img_df.iterrows():\n",
    "        yolo_bbox = []\n",
    "        \n",
    "        image_name = row['image_name']\n",
    "        bbox_df.rename(columns = {'ImageID':'image_name'}, inplace = True)\n",
    "        bbox_array = bbox_df.loc[:, ['XMin', 'XMax', 'YMin', 'YMax']].values\n",
    "        \n",
    "        for bbox in bbox_array:\n",
    "            x_min = bbox[0]\n",
    "            y_min = bbox[2]\n",
    "            x_max = bbox[1]\n",
    "            y_max = bbox[3]\n",
    "\n",
    "        \n",
    "            x_center = (x_min + x_max) / 2 \n",
    "            y_center = (y_min + y_max) / 2 \n",
    "        \n",
    "            w = (x_max - x_min)\n",
    "            h = (y_max - y_min)\n",
    "            \n",
    "            yolo_bbox.append([0, # object class \n",
    "                              x_center, # bbox x-center\n",
    "                              y_center, # bbox y-center\n",
    "                              w, # bbox width\n",
    "                              h]) # bbox height\n",
    "            \n",
    "        yolo_bbox = np.array(yolo_bbox)\n",
    "        label_path = f\"labels/{data_type}/{image_name}.txt\"\n",
    "        \n",
    "        # saving txt file containing class label and bbox coordinates\n",
    "        np.savetxt(label_path, yolo_bbox)\n",
    "        \n",
    "        img_source = row['path']\n",
    "        img_desti = f\"images/{data_type}/{image_name}.JPG\"\n",
    "        # moving images to the specific folder\n",
    "        shutil.move(img_source, img_desti)\n",
    "    print(\"Done\")"
   ]
  },
  {
   "cell_type": "code",
   "execution_count": null,
   "id": "4bd5b65c",
   "metadata": {},
   "outputs": [],
   "source": [
    "process_bbox(train_df, bbox_df, 'train')"
   ]
  },
  {
   "cell_type": "code",
   "execution_count": null,
   "id": "89201362",
   "metadata": {},
   "outputs": [],
   "source": [
    "process_bbox(valid_df, bbox_df, 'valid')"
   ]
  },
  {
   "cell_type": "code",
   "execution_count": null,
   "id": "10436ccf",
   "metadata": {},
   "outputs": [],
   "source": [
    "# clone the yolov5 github repository\n",
    "!git clone https://github.com/ultralytics/yolov5"
   ]
  },
  {
   "cell_type": "code",
   "execution_count": null,
   "id": "5a570c69",
   "metadata": {},
   "outputs": [],
   "source": [
    "# install all the requirements\n",
    "!pip install -r requirements.txt"
   ]
  },
  {
   "cell_type": "code",
   "execution_count": null,
   "id": "25957196",
   "metadata": {},
   "outputs": [],
   "source": [
    "%%writefile pothole.yaml\n",
    "train: ..\\images\\train\n",
    "val: ..\\images\\valid\n",
    " \n",
    "#Classes\n",
    "nc: 1  # number of classes\n",
    "names: ['pothole']  # class names"
   ]
  },
  {
   "cell_type": "markdown",
   "id": "862fa042",
   "metadata": {},
   "source": [
    "# Training"
   ]
  },
  {
   "cell_type": "code",
   "execution_count": null,
   "id": "6e1f04f3",
   "metadata": {},
   "outputs": [],
   "source": [
    "!python yolov5\\train.py --img 640 --batch 12 --epochs 20 --data pothole.yaml --weights yolov5s.pt --cache"
   ]
  },
  {
   "cell_type": "markdown",
   "id": "195c43eb",
   "metadata": {},
   "source": [
    "# Testing"
   ]
  },
  {
   "cell_type": "code",
   "execution_count": null,
   "id": "982a870e",
   "metadata": {},
   "outputs": [],
   "source": [
    "!python yolov5\\detect.py --save-txt --save-conf --source data\\Test_data --weights yolov5\\runs\\train\\exp7\\weights\\best.pt --conf 0.5"
   ]
  }
 ],
 "metadata": {
  "kernelspec": {
   "display_name": "Python 3 (ipykernel)",
   "language": "python",
   "name": "python3"
  },
  "language_info": {
   "codemirror_mode": {
    "name": "ipython",
    "version": 3
   },
   "file_extension": ".py",
   "mimetype": "text/x-python",
   "name": "python",
   "nbconvert_exporter": "python",
   "pygments_lexer": "ipython3",
   "version": "3.9.7"
  }
 },
 "nbformat": 4,
 "nbformat_minor": 5
}
