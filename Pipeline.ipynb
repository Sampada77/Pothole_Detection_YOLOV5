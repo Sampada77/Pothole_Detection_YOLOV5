{
 "cells": [
  {
   "cell_type": "code",
   "execution_count": null,
   "id": "15ccda81",
   "metadata": {
    "scrolled": true
   },
   "outputs": [],
   "source": [
    "#Importing libraries\n",
    "import os\n",
    "import cv2\n",
    "import matplotlib.pyplot as plt\n",
    "import torch"
   ]
  },
  {
   "cell_type": "code",
   "execution_count": null,
   "id": "0465c19a",
   "metadata": {},
   "outputs": [],
   "source": [
    "#loading model\n",
    "model_load = torch.hub.load('ultralytics/yolov5', 'custom', path='yolov5/runs/train/exp7/weights/best.pt')"
   ]
  },
  {
   "cell_type": "code",
   "execution_count": null,
   "id": "4222fdbe",
   "metadata": {},
   "outputs": [],
   "source": [
    "# path of the image for detection\n",
    "detect_img = r'data\\Test_data\\672.jpg'"
   ]
  },
  {
   "cell_type": "code",
   "execution_count": null,
   "id": "a1218883",
   "metadata": {},
   "outputs": [],
   "source": [
    "results = model(detect_img)"
   ]
  },
  {
   "cell_type": "code",
   "execution_count": null,
   "id": "21945b59",
   "metadata": {},
   "outputs": [],
   "source": [
    "#save the result\n",
    "results.save()"
   ]
  }
 ],
 "metadata": {
  "kernelspec": {
   "display_name": "Python 3 (ipykernel)",
   "language": "python",
   "name": "python3"
  },
  "language_info": {
   "codemirror_mode": {
    "name": "ipython",
    "version": 3
   },
   "file_extension": ".py",
   "mimetype": "text/x-python",
   "name": "python",
   "nbconvert_exporter": "python",
   "pygments_lexer": "ipython3",
   "version": "3.9.7"
  }
 },
 "nbformat": 4,
 "nbformat_minor": 5
}
