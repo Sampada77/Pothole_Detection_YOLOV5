{
 "cells": [
  {
   "cell_type": "markdown",
   "id": "4565b5df",
   "metadata": {},
   "source": [
    "# Exploratory Data Analysis(EDA)"
   ]
  },
  {
   "cell_type": "code",
   "execution_count": null,
   "id": "cfe2c660",
   "metadata": {},
   "outputs": [],
   "source": [
    "#Importing libraries\n",
    "import os\n",
    "import pandas as pd\n",
    "import seaborn as sns\n",
    "import matplotlib.pyplot as plt\n",
    "import numpy as np\n",
    "import warnings\n",
    "warnings.filterwarnings(\"ignore\")\n",
    "import cv2"
   ]
  },
  {
   "cell_type": "code",
   "execution_count": null,
   "id": "84c27d57",
   "metadata": {},
   "outputs": [],
   "source": [
    "data_directory = 'data' # data directory\n",
    "\n",
    "# printing all the folders/files present within the data directory\n",
    "print(os.listdir(data_directory))"
   ]
  },
  {
   "cell_type": "code",
   "execution_count": null,
   "id": "965749de",
   "metadata": {},
   "outputs": [],
   "source": [
    "def get_file_path_df(folder):\n",
    "    image_path = []\n",
    "    for root, dirs, files in os.walk(folder):\n",
    "        for f in files:\n",
    "            if f.endswith(\".jpg\"): # checking for jpg extension \n",
    "                image_path.append(os.path.join(root, f)) # appending to image_path list\n",
    "            \n",
    "        df_cols = {'path': image_path} # creating a dictionary for path of an image\n",
    "        df = pd.DataFrame(df_cols) # creating a dataframe\n",
    "    return df"
   ]
  },
  {
   "cell_type": "code",
   "execution_count": null,
   "id": "5d7b5087",
   "metadata": {
    "scrolled": true
   },
   "outputs": [],
   "source": [
    "# getting absolute path of all images and storing in a dataframe called df_data\n",
    "df_data = get_file_path_df(data_directory)\n",
    "\n",
    "# displying any random 10 rows\n",
    "data_df.sample(10)"
   ]
  },
  {
   "cell_type": "code",
   "execution_count": null,
   "id": "1198899e",
   "metadata": {},
   "outputs": [],
   "source": [
    "#displaying total no. images present\n",
    "data_df.shape"
   ]
  },
  {
   "cell_type": "code",
   "execution_count": null,
   "id": "fe8b8004",
   "metadata": {},
   "outputs": [],
   "source": [
    "test_list = os.listdir('E:\\Program\\Dataverse\\data\\Test data') # directory path for test data\n",
    "number_files_test = len(test_list)\n",
    "print(number_files_test)"
   ]
  },
  {
   "cell_type": "code",
   "execution_count": null,
   "id": "32e60172",
   "metadata": {},
   "outputs": [],
   "source": [
    "train_list = os.listdir('E:\\Program\\Dataverse\\data\\Train data') # directory path for train data\n",
    "number_files_train = len(train_list)\n",
    "print(number_files_train)"
   ]
  },
  {
   "cell_type": "code",
   "execution_count": null,
   "id": "a1b2ba88",
   "metadata": {},
   "outputs": [],
   "source": [
    "# visualization of data distribution among train and test\n",
    "\n",
    "# creating a bar plot\n",
    "plot = sns.barplot(['Train', 'Test'], \n",
    "                   [number_files_train, number_files_test])\n",
    "plt.title('Data Distribution')\n",
    "plt.xlabel('Dataset')\n",
    "plt.ylabel('Count')\n",
    "\n",
    "# adding class count to the barplot\n",
    "for patch in plot.patches:\n",
    "    # formatting and positioning the count values\n",
    "    plot.annotate('{:n}'.format(patch.get_height()), \n",
    "                  (patch.get_x()+0.25, patch.get_height()+1)) \n",
    "plt.show()"
   ]
  },
  {
   "cell_type": "markdown",
   "id": "b3397202",
   "metadata": {},
   "source": [
    "# Observation\n",
    "#### Data contains 674 training images\n",
    "#### Data contains 556 test images"
   ]
  },
  {
   "cell_type": "markdown",
   "id": "51b49b3a",
   "metadata": {},
   "source": [
    "function to get distribution of image height and width takes datafame input and outputs mean and median value of height and width"
   ]
  },
  {
   "cell_type": "code",
   "execution_count": null,
   "id": "3642ca27",
   "metadata": {},
   "outputs": [],
   "source": [
    "def get_image_size_distrib(df):\n",
    "    heights = []\n",
    "    widths = []\n",
    "\n",
    "    for path in df['path'].values:\n",
    "        img = cv2.imread(path) \n",
    "        shape = img.shape # (h, w, d) = image.shape\n",
    "        heights.append(shape[0])\n",
    "        widths.append(shape[1])\n",
    "\n",
    "    plt.figure(figsize=(10,3))\n",
    "    sns.distplot(heights)\n",
    "    plt.title('Image height distribution')\n",
    "    plt.xlabel('Height')\n",
    "    plt.show()\n",
    "    height_median = np.median(heights)\n",
    "    print('Median height:', height_median)\n",
    "    height_mean = np.mean(heights)\n",
    "    print('Mean height:', height_mean)\n",
    "    print()\n",
    "    plt.figure(figsize=(10,3))\n",
    "    sns.distplot(widths)\n",
    "    plt.title('Image width distribution')\n",
    "    plt.xlabel('Width')\n",
    "    plt.show()\n",
    "    width_median = np.median(widths)\n",
    "    print('Median width:', width_median)\n",
    "    width_mean = np.mean(widths)\n",
    "    print('Mean width:', width_mean)"
   ]
  },
  {
   "cell_type": "code",
   "execution_count": null,
   "id": "dd24e53c",
   "metadata": {},
   "outputs": [],
   "source": [
    "get_image_size_distrib(data_df)"
   ]
  },
  {
   "cell_type": "code",
   "execution_count": null,
   "id": "7004e4af",
   "metadata": {
    "scrolled": true
   },
   "outputs": [],
   "source": [
    "# annotation data (bounding boxes)\n",
    "annotation_df = pd.read_csv(os.path.join(data_dir, 'labels.csv'))\n",
    "annotation_df.head()"
   ]
  },
  {
   "cell_type": "markdown",
   "id": "232db381",
   "metadata": {},
   "source": [
    "# Observation\n",
    "\n",
    "Column details:\n",
    "  1. XMin: upper left corner coordinate\n",
    "  2. YMin: upper left corner coordinate\n",
    "  3. XMax: lower right corner coordinate\n",
    "  4. YMax: lower right corner coordinate"
   ]
  },
  {
   "cell_type": "markdown",
   "id": "53219d26",
   "metadata": {},
   "source": [
    "# EDA Summary:\n",
    "    1. Data contains 1230 images, in which 674 images belong to training set and 556 images belong to test set\n",
    "    2. All 674 training images belong to negative class"
   ]
  }
 ],
 "metadata": {
  "kernelspec": {
   "display_name": "Python 3 (ipykernel)",
   "language": "python",
   "name": "python3"
  },
  "language_info": {
   "codemirror_mode": {
    "name": "ipython",
    "version": 3
   },
   "file_extension": ".py",
   "mimetype": "text/x-python",
   "name": "python",
   "nbconvert_exporter": "python",
   "pygments_lexer": "ipython3",
   "version": "3.9.7"
  }
 },
 "nbformat": 4,
 "nbformat_minor": 5
}
