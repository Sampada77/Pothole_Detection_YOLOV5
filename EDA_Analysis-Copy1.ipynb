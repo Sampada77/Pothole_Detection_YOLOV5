{
 "cells": [
  {
   "cell_type": "markdown",
   "id": "2eabc334",
   "metadata": {},
   "source": [
    "# Exploratory Data Analysis(EDA)"
   ]
  },
  {
   "cell_type": "code",
   "execution_count": 1,
   "id": "cfe2c660",
   "metadata": {},
   "outputs": [],
   "source": [
    "#Importing libraries\n",
    "import os\n",
    "import pandas as pd\n",
    "import seaborn as sns\n",
    "import matplotlib.pyplot as plt\n",
    "import numpy as np\n",
    "import warnings\n",
    "warnings.filterwarnings(\"ignore\")\n",
    "import cv2"
   ]
  },
  {
   "cell_type": "code",
   "execution_count": 2,
   "id": "84c27d57",
   "metadata": {},
   "outputs": [
    {
     "name": "stdout",
     "output_type": "stream",
     "text": [
      "['labels.csv', 'Test data', 'Train_data']\n"
     ]
    }
   ],
   "source": [
    "data_dir = 'data' # data directory\n",
    "#data_dir = data_dir.replace(\"\\\\\",\"/\")\n",
    "\n",
    "# printing all the folders/files within the data directory\n",
    "print(os.listdir(data_dir))"
   ]
  },
  {
   "cell_type": "code",
   "execution_count": 3,
   "id": "3add5e19",
   "metadata": {},
   "outputs": [],
   "source": [
    "import re"
   ]
  },
  {
   "cell_type": "code",
   "execution_count": 4,
   "id": "965749de",
   "metadata": {},
   "outputs": [],
   "source": [
    "def get_file_path_df(folder):\n",
    "    image_path = []\n",
    "    for root, dirs, files in os.walk(folder):\n",
    "        for f in files:\n",
    "            if f.endswith(\".jpg\"): # checking for JPG extension \n",
    "                image_path.append(os.path.join(root, f)) # appending to image_path list\n",
    "                # df = dataframe\n",
    "        df_cols = {'path': image_path} # creating a dictionary\n",
    "        df = pd.DataFrame(df_cols) # creating a dataframe\n",
    "        #df1 = df.replace(\"/\",\"\\\\\")\n",
    "    return df"
   ]
  },
  {
   "cell_type": "code",
   "execution_count": 5,
   "id": "5d7b5087",
   "metadata": {
    "scrolled": true
   },
   "outputs": [
    {
     "data": {
      "text/html": [
       "<div>\n",
       "<style scoped>\n",
       "    .dataframe tbody tr th:only-of-type {\n",
       "        vertical-align: middle;\n",
       "    }\n",
       "\n",
       "    .dataframe tbody tr th {\n",
       "        vertical-align: top;\n",
       "    }\n",
       "\n",
       "    .dataframe thead th {\n",
       "        text-align: right;\n",
       "    }\n",
       "</style>\n",
       "<table border=\"1\" class=\"dataframe\">\n",
       "  <thead>\n",
       "    <tr style=\"text-align: right;\">\n",
       "      <th></th>\n",
       "      <th>path</th>\n",
       "    </tr>\n",
       "  </thead>\n",
       "  <tbody>\n",
       "    <tr>\n",
       "      <th>0</th>\n",
       "      <td>data\\Test data\\1000.jpg</td>\n",
       "    </tr>\n",
       "    <tr>\n",
       "      <th>1</th>\n",
       "      <td>data\\Test data\\1001.jpg</td>\n",
       "    </tr>\n",
       "    <tr>\n",
       "      <th>2</th>\n",
       "      <td>data\\Test data\\1002.jpg</td>\n",
       "    </tr>\n",
       "    <tr>\n",
       "      <th>3</th>\n",
       "      <td>data\\Test data\\1003.jpg</td>\n",
       "    </tr>\n",
       "    <tr>\n",
       "      <th>4</th>\n",
       "      <td>data\\Test data\\1004.jpg</td>\n",
       "    </tr>\n",
       "  </tbody>\n",
       "</table>\n",
       "</div>"
      ],
      "text/plain": [
       "                      path\n",
       "0  data\\Test data\\1000.jpg\n",
       "1  data\\Test data\\1001.jpg\n",
       "2  data\\Test data\\1002.jpg\n",
       "3  data\\Test data\\1003.jpg\n",
       "4  data\\Test data\\1004.jpg"
      ]
     },
     "execution_count": 5,
     "metadata": {},
     "output_type": "execute_result"
    }
   ],
   "source": [
    "# getting absolute path of all images and storing in a dataframe called data_df\n",
    "data_df = get_file_path_df(data_dir)\n",
    "\n",
    "# displying random 5 rows\n",
    "data_df.head()"
   ]
  },
  {
   "cell_type": "code",
   "execution_count": 7,
   "id": "1198899e",
   "metadata": {},
   "outputs": [
    {
     "data": {
      "text/plain": [
       "(1230, 1)"
      ]
     },
     "execution_count": 7,
     "metadata": {},
     "output_type": "execute_result"
    }
   ],
   "source": [
    "data_df.shape"
   ]
  },
  {
   "cell_type": "markdown",
   "id": "3285b056",
   "metadata": {},
   "source": [
    "def get_train_test_df(data_frame):\n",
    "    train_path = []\n",
    "    train_label = []\n",
    "    test_path = []\n",
    "\n",
    "    for path in data_frame['path'].values:\n",
    "        # splitting the path by '/' (eg: data/Train data/Positive data/G0027850.JPG) \n",
    "        path_split = path.split('/')\n",
    "        data_type = path_split[1] # accessing folder name\n",
    "\n",
    "    if data_type == 'Train data': \n",
    "        # train images\n",
    "        train_path.append(path)\n",
    "        train_label.append(path_split[2]) # appending label\n",
    "    else:\n",
    "        # test images\n",
    "        test_path.append(path)\n",
    "        \n",
    "    # creating dictionary of train data\n",
    "    train_dict = df_cols = {'path': train_path, 'label': train_label} \n",
    "    train_df = pd.DataFrame(train_dict) # creating train dataframe\n",
    "\n",
    "    test_dict = {'path': test_path} # creating dictionary of test data\n",
    "    test_df = pd.DataFrame(test_dict) # creating test dataframe\n",
    "    return train_df, test_df"
   ]
  },
  {
   "cell_type": "code",
   "execution_count": 12,
   "id": "fe8b8004",
   "metadata": {},
   "outputs": [
    {
     "name": "stdout",
     "output_type": "stream",
     "text": [
      "556\n"
     ]
    }
   ],
   "source": [
    "test_lst = os.listdir('E:\\Program\\Dataverse\\data\\Test data') # your directory path\n",
    "number_files_test = len(test_lst)\n",
    "print(number_files_test)"
   ]
  },
  {
   "cell_type": "code",
   "execution_count": 13,
   "id": "32e60172",
   "metadata": {},
   "outputs": [
    {
     "name": "stdout",
     "output_type": "stream",
     "text": [
      "674\n"
     ]
    }
   ],
   "source": [
    "train_lst = os.listdir('E:\\Program\\Dataverse\\data\\Train data') # your directory path\n",
    "number_files_train = len(train_lst)\n",
    "print(number_files_train)"
   ]
  },
  {
   "cell_type": "code",
   "execution_count": 15,
   "id": "a1b2ba88",
   "metadata": {},
   "outputs": [
    {
     "data": {
      "image/png": "[encoded data removed]",
      "text/plain": [
       "<Figure size 432x288 with 1 Axes>"
      ]
     },
     "metadata": {
      "needs_background": "light"
     },
     "output_type": "display_data"
    }
   ],
   "source": [
    "# visualization of data distribution among train and test\n",
    "\n",
    "# creating a bar plot\n",
    "plot = sns.barplot(['Train', 'Test'], \n",
    "                   [number_files_train, number_files_test])\n",
    "plt.title('Data Distribution')\n",
    "plt.xlabel('Dataset')\n",
    "plt.ylabel('Count')\n",
    "\n",
    "# adding class count to the barplot\n",
    "for patch in plot.patches:\n",
    "    # formatting and positioning the count values\n",
    "    plot.annotate('{:n}'.format(patch.get_height()), \n",
    "                  (patch.get_x()+0.25, patch.get_height()+1)) \n",
    "plt.show()"
   ]
  },
  {
   "cell_type": "code",
   "execution_count": 16,
   "id": "3642ca27",
   "metadata": {},
   "outputs": [],
   "source": [
    "def get_image_size_distrib(df):\n",
    "    heights = []\n",
    "    widths = []\n",
    "\n",
    "    for path in df['path'].values:\n",
    "        # img = cv2.imread(os.path.join(img_dir, path))\n",
    "        img = cv2.imread(path) \n",
    "        shape = img.shape # (h, w, d) = image.shape\n",
    "        heights.append(shape[0])\n",
    "        widths.append(shape[1])\n",
    "\n",
    "    plt.figure(figsize=(10,3))\n",
    "    sns.distplot(heights)\n",
    "    plt.title('Image height distribution')\n",
    "    plt.xlabel('Height')\n",
    "    plt.show()\n",
    "    height_median = np.median(heights)\n",
    "    print('Median height:', height_median)\n",
    "    height_mean = np.mean(heights)\n",
    "    print('Mean height:', height_mean)\n",
    "    print()\n",
    "    plt.figure(figsize=(10,3))\n",
    "    sns.distplot(widths)\n",
    "    plt.title('Image width distribution')\n",
    "    plt.xlabel('Width')\n",
    "    plt.show()\n",
    "    width_median = np.median(widths)\n",
    "    print('Median width:', width_median)\n",
    "    width_mean = np.mean(widths)\n",
    "    print('Mean width:', width_mean)"
   ]
  },
  {
   "cell_type": "code",
   "execution_count": 17,
   "id": "dd24e53c",
   "metadata": {},
   "outputs": [
    {
     "data": {
      "image/png": "[encoded data removed]",
      "text/plain": [
       "<Figure size 720x216 with 1 Axes>"
      ]
     },
     "metadata": {
      "needs_background": "light"
     },
     "output_type": "display_data"
    },
    {
     "name": "stdout",
     "output_type": "stream",
     "text": [
      "Median height: 450.0\n",
      "Mean height: 520.490243902439\n",
      "\n"
     ]
    },
    {
     "data": {
      "image/png": "[encoded data removed]",
      "text/plain": [
       "<Figure size 720x216 with 1 Axes>"
      ]
     },
     "metadata": {
      "needs_background": "light"
     },
     "output_type": "display_data"
    },
    {
     "name": "stdout",
     "output_type": "stream",
     "text": [
      "Median width: 560.5\n",
      "Mean width: 663.5910569105691\n"
     ]
    }
   ],
   "source": [
    "get_image_size_distrib(data_df)"
   ]
  },
  {
   "cell_type": "code",
   "execution_count": 18,
   "id": "7004e4af",
   "metadata": {},
   "outputs": [
    {
     "data": {
      "text/html": [
       "<div>\n",
       "<style scoped>\n",
       "    .dataframe tbody tr th:only-of-type {\n",
       "        vertical-align: middle;\n",
       "    }\n",
       "\n",
       "    .dataframe tbody tr th {\n",
       "        vertical-align: top;\n",
       "    }\n",
       "\n",
       "    .dataframe thead th {\n",
       "        text-align: right;\n",
       "    }\n",
       "</style>\n",
       "<table border=\"1\" class=\"dataframe\">\n",
       "  <thead>\n",
       "    <tr style=\"text-align: right;\">\n",
       "      <th></th>\n",
       "      <th>ImageID</th>\n",
       "      <th>LabelName</th>\n",
       "      <th>XMin</th>\n",
       "      <th>XMax</th>\n",
       "      <th>YMin</th>\n",
       "      <th>YMax</th>\n",
       "    </tr>\n",
       "  </thead>\n",
       "  <tbody>\n",
       "    <tr>\n",
       "      <th>0</th>\n",
       "      <td>1.jpg</td>\n",
       "      <td>pothole</td>\n",
       "      <td>0</td>\n",
       "      <td>131</td>\n",
       "      <td>140</td>\n",
       "      <td>263</td>\n",
       "    </tr>\n",
       "    <tr>\n",
       "      <th>1</th>\n",
       "      <td>1.jpg</td>\n",
       "      <td>pothole</td>\n",
       "      <td>168</td>\n",
       "      <td>487</td>\n",
       "      <td>279</td>\n",
       "      <td>449</td>\n",
       "    </tr>\n",
       "    <tr>\n",
       "      <th>2</th>\n",
       "      <td>1.jpg</td>\n",
       "      <td>pothole</td>\n",
       "      <td>1</td>\n",
       "      <td>144</td>\n",
       "      <td>34</td>\n",
       "      <td>109</td>\n",
       "    </tr>\n",
       "    <tr>\n",
       "      <th>3</th>\n",
       "      <td>2.jpg</td>\n",
       "      <td>pothole</td>\n",
       "      <td>57</td>\n",
       "      <td>952</td>\n",
       "      <td>271</td>\n",
       "      <td>505</td>\n",
       "    </tr>\n",
       "    <tr>\n",
       "      <th>4</th>\n",
       "      <td>3.jpg</td>\n",
       "      <td>pothole</td>\n",
       "      <td>225</td>\n",
       "      <td>416</td>\n",
       "      <td>292</td>\n",
       "      <td>439</td>\n",
       "    </tr>\n",
       "  </tbody>\n",
       "</table>\n",
       "</div>"
      ],
      "text/plain": [
       "  ImageID LabelName  XMin  XMax  YMin  YMax\n",
       "0   1.jpg   pothole     0   131   140   263\n",
       "1   1.jpg   pothole   168   487   279   449\n",
       "2   1.jpg   pothole     1   144    34   109\n",
       "3   2.jpg   pothole    57   952   271   505\n",
       "4   3.jpg   pothole   225   416   292   439"
      ]
     },
     "execution_count": 18,
     "metadata": {},
     "output_type": "execute_result"
    }
   ],
   "source": [
    "# annotation data (bounding boxes)\n",
    "\n",
    "annotation_df = pd.read_csv(os.path.join(data_dir, 'labels.csv'))\n",
    "annotation_df.head()"
   ]
  },
  {
   "cell_type": "code",
   "execution_count": 21,
   "id": "0945cdc0",
   "metadata": {},
   "outputs": [],
   "source": [
    "def visualize_data(img_df, annot_df, data_type):\n",
    "    rows = np.random.randint(img_df.shape[0], size=5) # generating 5 random numbers\n",
    "    sample_imgs = img_df.iloc[rows, :] # random images\n",
    "\n",
    "    counter = 0\n",
    "    plt.figure(figsize = (12, 50))\n",
    "\n",
    "    # checking if lowercase data_type = test\n",
    "    if data_type.lower() == 'test':\n",
    "        for idx, row in sample_imgs.iterrows():\n",
    "            path = row['path'] # file path\n",
    "            img = cv2.imread(path, cv2.IMREAD_UNCHANGED) # reading the image\n",
    "            plt.subplot(5, 1, 1 + counter)\n",
    "            plt.xticks([])\n",
    "            plt.yticks([])\n",
    "            plt.imshow(cv2.cvtColor(img, cv2.COLOR_BGR2RGB))\n",
    "            counter += 1\n",
    "\n",
    "    else:\n",
    "        for idx, row in sample_imgs.iterrows():\n",
    "            # file path\n",
    "            path = row['path']  #(data/Train data/Positive data/G0027850.JPG\n",
    "            img = cv2.imread(path, cv2.IMREAD_UNCHANGED) # reading the image\n",
    "            lab = row['label'] # file label\n",
    "            coords = [] # BBox coordinates\n",
    "            # if the image contains potholes\n",
    "            if lab == 'Positive data':\n",
    "                lab = 'Pothole'\n",
    "                img_id = path.split('/')[-1]\n",
    "                img_id = img_id.split('.')[0]\n",
    "                coords = annot_df[annot_df['image_id'] == img_id]\n",
    "                coords = coords[['x', 'y', 'w', 'h']].values\n",
    "            else:\n",
    "                lab = 'No Pothole' \n",
    "\n",
    "        plt.subplot(5, 1, 1 + counter)\n",
    "        plt.title(lab)\n",
    "        plt.xticks([])\n",
    "        plt.yticks([])\n",
    "        # drawing BBoxes\n",
    "        for c in coords:\n",
    "            cv2.rectangle(img, (c[0], c[1]), (c[0]+c[2], \n",
    "                                              c[1]+c[3]), (255, 0, 0), 3)\n",
    "        plt.imshow(cv2.cvtColor(img, cv2.COLOR_BGR2RGB))\n",
    "\n",
    "        counter += 1\n",
    "    plt.show()"
   ]
  },
  {
   "cell_type": "code",
   "execution_count": 22,
   "id": "a8f840a8",
   "metadata": {},
   "outputs": [
    {
     "ename": "NameError",
     "evalue": "name 'train_df' is not defined",
     "output_type": "error",
     "traceback": [
      "\u001b[1;31m---------------------------------------------------------------------------\u001b[0m",
      "\u001b[1;31mNameError\u001b[0m                                 Traceback (most recent call last)",
      "\u001b[1;32m~\\AppData\\Local\\Temp/ipykernel_1088/1890742780.py\u001b[0m in \u001b[0;36m<module>\u001b[1;34m\u001b[0m\n\u001b[0;32m      1\u001b[0m \u001b[1;31m# visualizing train data\u001b[0m\u001b[1;33m\u001b[0m\u001b[1;33m\u001b[0m\u001b[0m\n\u001b[1;32m----> 2\u001b[1;33m \u001b[0mvisualize_data\u001b[0m\u001b[1;33m(\u001b[0m\u001b[0mtrain_df\u001b[0m\u001b[1;33m,\u001b[0m \u001b[0mannotation_df\u001b[0m\u001b[1;33m,\u001b[0m \u001b[1;34m'Train'\u001b[0m\u001b[1;33m)\u001b[0m\u001b[1;33m\u001b[0m\u001b[1;33m\u001b[0m\u001b[0m\n\u001b[0m",
      "\u001b[1;31mNameError\u001b[0m: name 'train_df' is not defined"
     ]
    }
   ],
   "source": [
    "#visualizing train data\n",
    "visualize_data(train_df, annotation_df, 'Train')"
   ]
  },
  {
   "cell_type": "code",
   "execution_count": null,
   "id": "a50a6eba",
   "metadata": {},
   "outputs": [],
   "source": []
  }
 ],
 "metadata": {
  "kernelspec": {
   "display_name": "Python 3 (ipykernel)",
   "language": "python",
   "name": "python3"
  },
  "language_info": {
   "codemirror_mode": {
    "name": "ipython",
    "version": 3
   },
   "file_extension": ".py",
   "mimetype": "text/x-python",
   "name": "python",
   "nbconvert_exporter": "python",
   "pygments_lexer": "ipython3",
   "version": "3.9.7"
  }
 },
 "nbformat": 4,
 "nbformat_minor": 5
}
