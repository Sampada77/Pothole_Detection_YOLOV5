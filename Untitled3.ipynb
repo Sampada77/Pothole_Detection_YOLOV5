{
 "cells": [
  {
   "cell_type": "code",
   "execution_count": null,
   "id": "5bdf2280",
   "metadata": {},
   "outputs": [],
   "source": [
    "import io\n",
    "from PIL import Image\n",
    "import cv2\n",
    "import torch\n",
    "from flask import Flask, render_template, request, make_response\n",
    "from werkzeug.exceptions import BadRequest\n",
    "import os"
   ]
  },
  {
   "cell_type": "code",
   "execution_count": null,
   "id": "a17535bf",
   "metadata": {},
   "outputs": [],
   "source": [
    "app = Flask(__name__)"
   ]
  },
  {
   "cell_type": "code",
   "execution_count": null,
   "id": "530cc357",
   "metadata": {},
   "outputs": [],
   "source": [
    "# create a python dictionary for your models d = {<key>: <value>, <key>: <value>, ..., <key>: <value>}\n",
    "dictOfModels = {}\n",
    "# create a list of keys to use them in the select part of the html code\n",
    "listOfKeys = []\n",
    "for r, d, f in os.walk(\"models_train\"):\n",
    "    for file in f:\n",
    "        if \".pt\" in file:\n",
    "            # example: file = \"model1.pt\"\n",
    "            # the path of each model: os.path.join(r, file)\n",
    "            dictOfModels[os.path.splitext(file)[0]] = torch.hub.load('ultralytics/yolov5', 'custom', path=os.path.join(r, file), force_reload=True)\n",
    "            # you would obtain: dictOfModels = {\"model1\" : model1 , etc}\n",
    "    for key in dictOfModels :\n",
    "        listOfKeys.append(key)     # put all the keys in the listOfKeys\n",
    "    print(listOfKeys)"
   ]
  },
  {
   "cell_type": "code",
   "execution_count": null,
   "id": "417fd032",
   "metadata": {},
   "outputs": [],
   "source": [
    "def get_prediction(img_bytes,model):\n",
    "    img = Image.open(io.BytesIO(img_bytes))\n",
    "    # inference\n",
    "    results = model(img, size=640)  \n",
    "    return results"
   ]
  },
  {
   "cell_type": "code",
   "execution_count": null,
   "id": "23364f11",
   "metadata": {},
   "outputs": [],
   "source": [
    "@app.route('/', methods=['GET'])\n",
    "def get():\n",
    "  # in the select we will have each key of the list in option\n",
    "  return render_template(\"index.html\", len = len(listOfKeys), listOfKeys = listOfKeys)"
   ]
  },
  {
   "cell_type": "code",
   "execution_count": null,
   "id": "c75c2bc5",
   "metadata": {},
   "outputs": [],
   "source": [
    "@app.route('/', methods=['POST'])\n",
    "def predict():\n",
    "    file = extract_img(request)\n",
    "    img_bytes = file.read()\n",
    "    # choice of the model\n",
    "    results = get_prediction(img_bytes,dictOfModels[request.form.get(\"model_choice\")])\n",
    "    print(f'User selected model : {request.form.get(\"model_choice\")}')\n",
    "    # updates results.imgs with boxes and labels\n",
    "    results.render()\n",
    "    # encoding the resulting image and return it\n",
    "    for img in results.imgs:\n",
    "        RGB_img = cv2.cvtColor(img, cv2.COLOR_BGR2RGB)\n",
    "        im_arr = cv2.imencode('.jpg', RGB_img)[1]\n",
    "        response = make_response(im_arr.tobytes())\n",
    "        response.headers['Content-Type'] = 'image/jpeg'\n",
    "    # return your image with boxes and labels\n",
    "    return response\n",
    "\n",
    "def extract_img(request):\n",
    "    # checking if image uploaded is valid\n",
    "    if 'file' not in request.files:\n",
    "        raise BadRequest(\"Missing file parameter!\")\n",
    "    file = request.files['file']\n",
    "    if file.filename == '':\n",
    "        raise BadRequest(\"Given file is invalid\")\n",
    "    return file"
   ]
  },
  {
   "cell_type": "code",
   "execution_count": null,
   "id": "35c97f72",
   "metadata": {},
   "outputs": [],
   "source": [
    "if __name__ == '__main__':\n",
    "    app.run(debug=True,host='0.0.0.0')"
   ]
  },
  {
   "cell_type": "code",
   "execution_count": null,
   "id": "4d0215a5",
   "metadata": {},
   "outputs": [],
   "source": []
  }
 ],
 "metadata": {
  "kernelspec": {
   "display_name": "Python 3 (ipykernel)",
   "language": "python",
   "name": "python3"
  },
  "language_info": {
   "codemirror_mode": {
    "name": "ipython",
    "version": 3
   },
   "file_extension": ".py",
   "mimetype": "text/x-python",
   "name": "python",
   "nbconvert_exporter": "python",
   "pygments_lexer": "ipython3",
   "version": "3.9.7"
  }
 },
 "nbformat": 4,
 "nbformat_minor": 5
}
